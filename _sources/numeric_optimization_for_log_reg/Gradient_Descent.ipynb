{
 "cells": [
  {
   "cell_type": "markdown",
   "id": "05785f33",
   "metadata": {},
   "source": [
    "# Gradient Descent\n",
    "\n",
    "Gradient Descent is a fundamental optimization algorithm used in logistic regression to minimize the cost function and find optimal values for the model parameters. This iterative optimization technique adjusts the parameters in the direction of the steepest decrease in the cost function.\n",
    "\n",
    "## Cost Function Recap\n",
    "\n",
    "The binary cross-entropy loss is a common way to represent the cost function in logistic regression. For a single training example, it is given by:\n",
    "\n",
    "$$ J(\\theta) = -\\left[y \\log(\\hat{y}) + (1-y) \\log(1-\\hat{y})\\right] $$\n",
    "\n",
    "where $ \\hat{y} $ is the expected probability and $ y $ is the actual label (0 or 1).\n",
    "\n",
    "## Derivation of the Gradient\n",
    "\n",
    "The gradient of the cost function with respect to the parameters ($ \\theta $) must be calculated in order to use gradient descent. The gradient for logistic regression is provided by:\n",
    "\n",
    "$$ \\nabla J(\\theta) = \\frac{1}{m} \\sum_{i=1}^{m} \\left( \\hat{y}^{(i)} - y^{(i)} \\right) \\mathbf{x}^{(i)} $$\n",
    "\n",
    "In this case, the number of training examples is $m$, the predicted probability is $ \\hat{y}^{(i)} $, the actual label is $ y^{(i)} $, and the feature vector for the $i $-th example is $ \\mathbf{x}^{(i)} $.\n",
    "\n",
    "## Gradient Descent Update Rule\n",
    "\n",
    "In order to minimize the cost function, gradient descent updates the parameters ($ \\theta $) in the opposite direction of the gradient. Update rules are provided by:\n",
    "\n",
    "$$ \\theta = \\theta - \\alpha \\nabla J(\\theta) $$\n",
    "\n",
    "where the learning rate, $\\alpha$, regulates the number of steps taken during optimization.\n",
    "\n",
    "## Batch Gradient Descent\n",
    "\n",
    "Every iteration of Batch Gradient Descent computes the gradient using the complete training dataset. Although it can be computationally expensive for large datasets, it offers accurate updates.\n",
    "\n",
    "## Example\n",
    "\n",
    "Consider the logistic regression cost function:\n",
    "\n",
    "$$ J(\\theta) = -\\frac{1}{m} \\sum_{i=1}^{m} [y^{(i)} \\log(h_\\theta(x^{(i)})) + (1 - y^{(i)}) \\log(1 - h_\\theta(x^{(i)}))] $$\n",
    "\n",
    "Here, $ J(\\theta) $ is the cost function, $ m $ is the number of training examples, $ y^{(i)} $ is the actual output for the $ i^{th} $ example, $ h_\\theta(x^{(i)}) $ is the predicted output, and $ \\theta $ represents the parameters of the model.\n",
    "\n",
    "The gradient descent update rule for logistic regression is given by:\n",
    "\n",
    "$$ \\theta_j = \\theta_j - \\alpha \\frac{1}{m} \\sum_{i=1}^{m} (h_\\theta(x^{(i)}) - y^{(i)})x_j^{(i)} $$\n",
    "\n",
    "Here, $ \\alpha $ is the learning rate.\n",
    "\n",
    "## Implementation\n",
    "\n",
    "Let's implement a simple gradient descent for logistic regression in Python:\n",
    "\n",
    "```python\n",
    "import numpy as np\n",
    "\n",
    "def sigmoid(z):\n",
    "    return 1 / (1 + np.exp(-z))\n",
    "\n",
    "def compute_cost(theta, X, y):\n",
    "    m = len(y)\n",
    "    h = sigmoid(np.dot(X, theta))\n",
    "    cost = -1/m * (np.dot(y, np.log(h)) + np.dot((1 - y), np.log(1 - h)))\n",
    "    return cost\n",
    "\n",
    "def gradient_descent(X, y, theta, learning_rate, num_iterations):\n",
    "    m = len(y)\n",
    "    costs = []\n",
    "\n",
    "    for _ in range(num_iterations):\n",
    "        h = sigmoid(np.dot(X, theta))\n",
    "        gradient = np.dot(X.T, (h - y)) / m\n",
    "        theta = theta - learning_rate * gradient\n",
    "        cost = compute_cost(theta, X, y)\n",
    "        costs.append(cost)\n",
    "\n",
    "    return theta, costs\n",
    "\n",
    "# Example usage:\n",
    "# Assuming X is your feature matrix and y is the target variable\n",
    "# Add a column of ones to X for the bias term\n",
    "X = np.column_stack((np.ones(m), X))\n",
    "theta = np.zeros(X.shape[1])\n",
    "learning_rate = 0.01\n",
    "num_iterations = 1000\n",
    "\n",
    "theta, costs = gradient_descent(X, y, theta, learning_rate, num_iterations)"
   ]
  },
  {
   "cell_type": "markdown",
   "metadata": {},
   "source": [
    "# Executable content: Gradient Descent\n",
    " \n",
    "Utilizing the <i><b>\"load_digits\"</b></i> dataset from the scikit-learn library, which comprises hand-written digit images, the objective is to predict the corresponding digit (ranging from 0 to 9) based on the pixel values. The subsequent example outlines the implementation of <b>Logistic Regression with Gradient Descent </b> for this dataset:"
   ]
  },
  {
   "cell_type": "code",
   "execution_count": 1,
   "metadata": {},
   "outputs": [
    {
     "name": "stdout",
     "output_type": "stream",
     "text": [
      "Accuracy on the test set: 0.9361111111111111\n"
     ]
    }
   ],
   "source": [
    "import numpy as np\n",
    "import matplotlib.pyplot as plt\n",
    "from sklearn.datasets import load_digits\n",
    "from sklearn.model_selection import train_test_split\n",
    "from sklearn.preprocessing import StandardScaler\n",
    "\n",
    "# Loading the Digits dataset\n",
    "digits = load_digits()\n",
    "X = digits.data\n",
    "y = digits.target\n",
    "\n",
    "# Standardizing features\n",
    "scaler = StandardScaler()\n",
    "X = scaler.fit_transform(X)\n",
    "\n",
    "# Augmenting features with an intercept term\n",
    "X = np.c_[np.ones(X.shape[0]), X]\n",
    "\n",
    "# Splitting the data into training and testing sets\n",
    "X_train, X_test, y_train, y_test = train_test_split(X, y, test_size=0.2, random_state=42)\n",
    "\n",
    "# Initializing parameters for the logistic regression model using the gradient descent approach\n",
    "theta = np.zeros((X.shape[1], len(np.unique(y))))  # Employing the one-vs-all strategy for multi-class classification\n",
    "\n",
    "# Specifying hyperparameters\n",
    "learning_rate = 0.01\n",
    "epochs = 1000\n",
    "\n",
    "# Executing the Gradient Descent optimization\n",
    "for epoch in range(epochs):\n",
    "    # Calculating softmax probabilities\n",
    "    logits = np.dot(X_train, theta)\n",
    "    probabilities = np.exp(logits) / np.sum(np.exp(logits), axis=1, keepdims=True)\n",
    "\n",
    "    # Employing one-hot encoding for the target variable\n",
    "    y_onehot = np.eye(len(np.unique(y)))[y_train]\n",
    "\n",
    "    # Computing the gradient\n",
    "    gradient = np.dot(X_train.T, (probabilities - y_onehot)) / len(y_train)\n",
    "\n",
    "    # Updating model parameters\n",
    "    theta -= learning_rate * gradient\n",
    "\n",
    "# Generating predictions on the test set\n",
    "logits_test = np.dot(X_test, theta)\n",
    "predictions_test = np.argmax(logits_test, axis=1)\n",
    "\n",
    "# Assessing the model's performance\n",
    "accuracy = np.mean(predictions_test == y_test)\n",
    "print(f\"Accuracy on the test set: {accuracy}\")\n",
    "\n",
    "# Note: Visualizing the decision boundary is not practical in this high-dimensional feature space."
   ]
  },
  {
   "cell_type": "markdown",
   "metadata": {},
   "source": [
    "<i>This script modifies the logistic regression model to accommodate multi-class classification through the utilization of the one-vs-all strategy applied to the digits dataset. The script encompasses distinct phases, incorporating training, testing, and assessment procedures. It is imperative to acknowledge that the visualization of the decision boundary is rendered impractical within this expansive high-dimensional feature space.</i>"
   ]
  },
  {
   "cell_type": "markdown",
   "metadata": {},
   "source": [
    "Visual representations serve as instrumental tools for elucidating nuanced aspects of model performance. The ensuing script represents an expanded iteration that incorporates visual depictions of the confusion matrix alongside illustrative examples of predicted outcomes:"
   ]
  },
  {
   "cell_type": "code",
   "execution_count": 2,
   "metadata": {},
   "outputs": [
    {
     "name": "stdout",
     "output_type": "stream",
     "text": [
      "Accuracy on the test set: 0.9666666666666667\n"
     ]
    },
    {
     "data": {
      "image/png": "[encoded data removed]",
      "text/plain": [
       "<Figure size 640x480 with 2 Axes>"
      ]
     },
     "metadata": {},
     "output_type": "display_data"
    },
    {
     "data": {
      "image/png": "[encoded data removed]",
      "text/plain": [
       "<Figure size 1200x600 with 10 Axes>"
      ]
     },
     "metadata": {},
     "output_type": "display_data"
    }
   ],
   "source": [
    "import numpy as np\n",
    "import matplotlib.pyplot as plt\n",
    "from sklearn.datasets import load_digits\n",
    "from sklearn.model_selection import train_test_split\n",
    "from sklearn.preprocessing import StandardScaler\n",
    "from sklearn.linear_model import LogisticRegression\n",
    "from sklearn.metrics import confusion_matrix, ConfusionMatrixDisplay\n",
    "\n",
    "# Acquiring the Digits dataset\n",
    "digits = load_digits()\n",
    "X = digits.data\n",
    "y = digits.target\n",
    "\n",
    "# Standardizing features\n",
    "scaler = StandardScaler()\n",
    "X = scaler.fit_transform(X)\n",
    "\n",
    "# Augmenting features with an intercept term\n",
    "X = np.c_[np.ones(X.shape[0]), X]\n",
    "\n",
    "# Segregating the data into training and testing sets\n",
    "X_train, X_test, y_train, y_test = train_test_split(X, y, test_size=0.2, random_state=42)\n",
    "\n",
    "# Initiating logistic regression model\n",
    "model = LogisticRegression(max_iter=1000, multi_class='ovr')  # 'ovr' for one-vs-rest strategy\n",
    "model.fit(X_train, y_train)\n",
    "\n",
    "# Deriving predictions on the test set\n",
    "predictions_test = model.predict(X_test)\n",
    "\n",
    "# Assessing the model\n",
    "accuracy = model.score(X_test, y_test)\n",
    "print(f\"Accuracy on the test set: {accuracy}\")\n",
    "\n",
    "# Visualizing the Confusion Matrix using ConfusionMatrixDisplay\n",
    "conf_matrix = confusion_matrix(y_test, predictions_test)\n",
    "disp = ConfusionMatrixDisplay(conf_matrix, display_labels=np.unique(y))\n",
    "disp.plot(cmap='Blues', values_format='d')\n",
    "plt.title('Confusion Matrix')\n",
    "plt.show()\n",
    "\n",
    "# Displaying sample predictions\n",
    "sample_indices = np.random.choice(len(X_test), 10, replace=False)\n",
    "sample_images = X_test[sample_indices, 1:]  # Excluding the intercept term for plotting\n",
    "sample_labels = y_test[sample_indices]\n",
    "predicted_labels_sample = predictions_test[sample_indices]\n",
    "\n",
    "# Plotting sample predictions\n",
    "fig, axes = plt.subplots(2, 5, figsize=(12, 6))\n",
    "for i, ax in enumerate(axes.flat):\n",
    "    ax.imshow(sample_images[i].reshape(8, 8), cmap='gray')\n",
    "    ax.set_title(f\"True: {sample_labels[i]}, Predicted: {predicted_labels_sample[i]}\")\n",
    "    ax.axis('off')\n",
    "\n",
    "plt.show()"
   ]
  },
  {
   "cell_type": "markdown",
   "metadata": {},
   "source": [
    "<i>The example below creates an interactive visualization using sliders to select the class for which you want to display the confusion matrix. Please ensure that you have the necessary dependencies installed (matplotlib, numpy, scikit-learn, ipywidgets). You can install ipywidgets using:<i>\n",
    "\n",
    "```console \n",
    "pip install ipywidgets\n",
    "jupyter nbextension enable --py widgetsnbextension\n",
    "```"
   ]
  },
  {
   "cell_type": "code",
   "execution_count": 3,
   "metadata": {},
   "outputs": [
    {
     "name": "stdout",
     "output_type": "stream",
     "text": [
      "Accuracy on the test set: 0.9666666666666667\n"
     ]
    },
    {
     "data": {
      "application/vnd.jupyter.widget-view+json": {
       "model_id": "1d77b1623c9b41858d0c73d916e1de45",
       "version_major": 2,
       "version_minor": 0
      },
      "text/plain": [
       "interactive(children=(IntSlider(value=0, description='class_idx', max=9), Output()), _dom_classes=('widget-int…"
      ]
     },
     "metadata": {},
     "output_type": "display_data"
    }
   ],
   "source": [
    "import numpy as np\n",
    "import matplotlib.pyplot as plt\n",
    "from sklearn.datasets import load_digits\n",
    "from sklearn.model_selection import train_test_split\n",
    "from sklearn.preprocessing import StandardScaler\n",
    "from sklearn.linear_model import LogisticRegression\n",
    "from sklearn.metrics import confusion_matrix, ConfusionMatrixDisplay\n",
    "from ipywidgets import interact, widgets\n",
    "\n",
    "# Load the Digits dataset\n",
    "digits = load_digits()\n",
    "X = digits.data\n",
    "y = digits.target\n",
    "\n",
    "# Standardize features\n",
    "scaler = StandardScaler()\n",
    "X = scaler.fit_transform(X)\n",
    "\n",
    "# Add intercept term to X\n",
    "X = np.c_[np.ones(X.shape[0]), X]\n",
    "\n",
    "# Split the data into training and testing sets\n",
    "X_train, X_test, y_train, y_test = train_test_split(X, y, test_size=0.2, random_state=42)\n",
    "\n",
    "# Initialize logistic regression model\n",
    "model = LogisticRegression(max_iter=1000, multi_class='ovr')  # 'ovr' for one-vs-rest strategy\n",
    "model.fit(X_train, y_train)\n",
    "\n",
    "# Make predictions on the test set\n",
    "predictions_test = model.predict(X_test)\n",
    "\n",
    "# Evaluate the model\n",
    "accuracy = model.score(X_test, y_test)\n",
    "print(f\"Accuracy on the test set: {accuracy}\")\n",
    "\n",
    "# Compute the confusion matrix\n",
    "conf_matrix = confusion_matrix(y_test, predictions_test)\n",
    "\n",
    "# Function to plot confusion matrix for a specific class\n",
    "def plot_confusion_matrix(class_idx):\n",
    "    class_name = f'Class {class_idx}'\n",
    "    disp = ConfusionMatrixDisplay(conf_matrix, display_labels=np.unique(y))\n",
    "    disp.plot(cmap='Blues', values_format='d')\n",
    "    plt.title(f'Confusion Matrix for {class_name}')\n",
    "\n",
    "# Use ipywidgets interact to create a slider for class selection\n",
    "interact(plot_confusion_matrix, class_idx=widgets.IntSlider(min=0, max=9, step=1, value=0))\n",
    "plt.show()"
   ]
  }
 ],
 "metadata": {
  "kernelspec": {
   "display_name": "Python 3 (ipykernel)",
   "language": "python",
   "name": "python3"
  },
  "language_info": {
   "codemirror_mode": {
    "name": "ipython",
    "version": 3
   },
   "file_extension": ".py",
   "mimetype": "text/x-python",
   "name": "python",
   "nbconvert_exporter": "python",
   "pygments_lexer": "ipython3",
   "version": "3.11.4"
  }
 },
 "nbformat": 4,
 "nbformat_minor": 5
}
