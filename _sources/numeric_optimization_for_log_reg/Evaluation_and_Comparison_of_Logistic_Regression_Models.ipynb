{
 "cells": [
  {
   "cell_type": "markdown",
   "id": "eade0a6d",
   "metadata": {},
   "source": [
    "# Evaluation and Comparison\n",
    "\n",
    "To determine whether logistic regression models are useful for making predictions, it is essential to assess their performance. In logistic regression, evaluation and comparison entail determining how well the model performs as well as contrasting various models or variants of the same model. The following are typical techniques for assessing and contrasting logistic regression models:\n",
    "\n",
    "## Metrics for Evaluation\n",
    "\n",
    "### Accuracy\n",
    "\n",
    "A popular metric for balanced datasets, accuracy quantifies the percentage of correctly classified instances.\n",
    "\n",
    "$$ \\text{Accuracy} = \\frac{\\text{Number of Correct Predictions}}{\\text{Total Number of Predictions}} $$\n",
    "\n",
    "### Precision, Recall, and F1 Score\n",
    "\n",
    "F1 score, recall, and precision offer additional information for unbalanced datasets. They have the following definition:\n",
    "\n",
    "$$ \\text{Precision} = \\frac{\\text{True Positives}}{\\text{True Positives + False Positives}} $$\n",
    "\n",
    "$$ \\text{Recall} = \\frac{\\text{True Positives}}{\\text{True Positives + False Negatives}} $$\n",
    "\n",
    "$$ \\text{F1 Score} = 2 \\times \\left(\\frac{\\text{Precision} \\times \\text{Recall}}{\\text{Precision + Recall}}\\right) $$"
   ]
  }
 ],
 "metadata": {
  "kernelspec": {
   "display_name": "Python 3 (ipykernel)",
   "language": "python",
   "name": "python3"
  },
  "language_info": {
   "codemirror_mode": {
    "name": "ipython",
    "version": 3
   },
   "file_extension": ".py",
   "mimetype": "text/x-python",
   "name": "python",
   "nbconvert_exporter": "python",
   "pygments_lexer": "ipython3",
   "version": "3.7.6"
  }
 },
 "nbformat": 4,
 "nbformat_minor": 5
}
